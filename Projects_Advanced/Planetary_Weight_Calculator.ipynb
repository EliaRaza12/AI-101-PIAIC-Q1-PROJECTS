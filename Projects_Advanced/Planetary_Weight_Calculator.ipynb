{
  "nbformat": 4,
  "nbformat_minor": 0,
  "metadata": {
    "colab": {
      "provenance": []
    },
    "kernelspec": {
      "name": "python3",
      "display_name": "Python 3"
    },
    "language_info": {
      "name": "python"
    }
  },
  "cells": [
    {
      "cell_type": "markdown",
      "source": [
        "# Problem: Planetary Weight Calculator\n",
        "## Milestone #1: Mars Weight\n",
        "\n",
        "A few years ago, NASA made history with the first controlled flight on another planet. Its latest Mars Rover, Perseverance, has onboard a 50cm high helicopter called Ingenuity. Ingenuity made its third flight, during which it flew faster and further than it had on any of its test flights on Earth. Interestingly, Ingenuity uses Python for some of its flight modeling software!\n",
        "\n",
        "Ingenuity on the surface of Mars (source: NASA)\n",
        "\n",
        "When programming Ingenuity, one of the things that NASA engineers need to account for is the fact that due to the weaker gravity on Mars, an Earthling's weight on Mars is 37.8% of their weight on Earth. Write a Python program that prompts an Earthling to enter their weight on Earth and prints their calculated weight on Mars.\n",
        "\n",
        "The output should be rounded to two decimal places when necessary. Python has a round function which can help you with this"
      ],
      "metadata": {
        "id": "yinCUYC5qgS6"
      }
    },
    {
      "cell_type": "code",
      "execution_count": null,
      "metadata": {
        "colab": {
          "base_uri": "https://localhost:8080/"
        },
        "id": "fYGi7JyAp3nh",
        "outputId": "2fe554c8-aadc-4768-9fdd-bdd8c17137ba"
      },
      "outputs": [
        {
          "name": "stdout",
          "output_type": "stream",
          "text": [
            "$ python marsweight.py \n",
            " Enter a weight on Earth: 120\n"
          ]
        }
      ],
      "source": [
        "\"\"\"\n",
        "Prompts the user for a weight on Earth\n",
        "and a planet (in separate inputs). Then\n",
        "prints the equivalent weight on that planet.\n",
        "\n",
        "Note that the user should type in a planet with\n",
        "the first letter as uppercase, and you do not need\n",
        "to handle the case where a user types in something\n",
        "other than one of the planets (that is not Earth).\n",
        "\"\"\"\n",
        "\n",
        "\n",
        "# Mars Weight\n",
        "\n",
        "\"\"\"\n",
        "Prompts the user for a weight on Earth\n",
        "and prints the equivalent weight on Mars.\n",
        "\"\"\"\n",
        "\n",
        "def main():\n",
        "    # Fill this function out!\n",
        "    pass\n",
        "\n",
        "if __name__ == \"__main__\":\n",
        "    main()"
      ]
    },
    {
      "cell_type": "code",
      "source": [
        "def calculate_mars_weight(Earth_Weight):\n",
        "    mars_weight = Earth_Weight * 0.378\n",
        "    return round(mars_weight,2)\n",
        "\n",
        "def main():\n",
        "  Earth_Weight = int(input(\"Enter a weight on Earth: \"))\n",
        "  MARS = calculate_mars_weight(Earth_Weight)\n",
        "  print(\"The Equivalent on Mars: \" + str(MARS))\n",
        "main()"
      ],
      "metadata": {
        "colab": {
          "base_uri": "https://localhost:8080/"
        },
        "id": "jV0GZapvtG0J",
        "outputId": "a60f8d2e-2971-4f82-e215-06d6900d3808"
      },
      "execution_count": null,
      "outputs": [
        {
          "output_type": "stream",
          "name": "stdout",
          "text": [
            "Enter a weight on Earth: 120\n",
            "The Equivalent on Mars: 45.36\n"
          ]
        }
      ]
    },
    {
      "cell_type": "markdown",
      "source": [
        "## Milestone #2: Adding in All Planets\n",
        "Mars is not the only planet in our solar system with its own unique gravity. In fact, each planet has a different gravitational constant, which affects how much an object would weigh on that planet. Below is a list of the constants for each planet compared to Earth's gravity:\n",
        "\n",
        "Mercury: 37.6%\n",
        "\n",
        "Venus: 88.9%\n",
        "\n",
        "Mars: 37.8%\n",
        "\n",
        "Jupiter: 236.0%\n",
        "\n",
        "Saturn: 108.1%\n",
        "\n",
        "Uranus: 81.5%\n",
        "\n",
        "Neptune: 114.0%\n",
        "\n",
        "Write a Python program that prompts an Earthling to enter their weight on Earth and then to enter the name of a planet in our solar system. The program should print the equivalent weight on that planet rounded to 2 decimal places if necessary.\n",
        "\n",
        "You can assume that the user will always type in a planet with the first letter capitalized and you do not need to worry about the case where they type in something other than one of the above planets.\n",
        "\n"
      ],
      "metadata": {
        "id": "p-8l4FxNxRhn"
      }
    },
    {
      "cell_type": "code",
      "source": [
        "Mercury_Constant = 0.376\n",
        "\n",
        "Venus_Constant = 0.889\n",
        "\n",
        "Mars_Constant =  0.378\n",
        "\n",
        "Jupiter_Constant = 2.360\n",
        "\n",
        "Saturn_Constant = 1.081\n",
        "\n",
        "Uranus_Constant = 0.815\n",
        "\n",
        "Neptune_Constant = 1.140\n",
        "\n",
        "def Planetary_Weight_Calculator(Earth_Weight,Planet):\n",
        "    gravity_constant = 0\n",
        "    if Planet.lower() == \"Mercury\":\n",
        "        gravity_constant = Mercury_Constant\n",
        "    elif Planet.lower() == \"Venus\":\n",
        "        gravity_constant = Venus_Constant\n",
        "    elif Planet.lower() == \"Mars\":\n",
        "        gravity_constant = Mars_Constant\n",
        "    elif Planet.lower() == \"Jupiter\":\n",
        "        gravity_constant = Jupiter_Constant\n",
        "    elif Planet.lower() == \"Saturn\":\n",
        "        gravity_constant = Saturn_Constant\n",
        "    elif Planet.lower() == \"Uranus\":\n",
        "        gravity_constant = Uranus_Constant\n",
        "    elif Planet.lower() == \"Neptune\":\n",
        "        gravity_constant = Neptune_Constant\n",
        "    else:\n",
        "        print(\"Invalid Planet\")\n",
        "\n",
        "def main():\n",
        "  while True:\n",
        "    try:\n",
        "      Earth_Weight = float(input(\"Enter a weight on Earth: \"))\n",
        "      break\n",
        "    except ValueError:\n",
        "      print(\"Invalid Input! Weight must be a Numeric Value.\")\n",
        "\n",
        "\n",
        "  Planet = str(input(\"Enter the name of a planet: \"))\n",
        "  P_Calculator = Planetary_Weight_Calculator(Earth_Weight,Planet.lower())\n",
        "  print(P_Calculator)\n",
        "\n",
        "main()\n",
        "\n",
        "\n"
      ],
      "metadata": {
        "colab": {
          "base_uri": "https://localhost:8080/"
        },
        "id": "20uh2efntGr3",
        "outputId": "80c23d3d-1be7-4ff4-d475-db428fdeb1b1"
      },
      "execution_count": null,
      "outputs": [
        {
          "output_type": "stream",
          "name": "stdout",
          "text": [
            "Enter a weight on Earth: 5t\n",
            "Invalid Input! Weight must be a Numeric Value.\n",
            "Enter a weight on Earth: 120\n",
            "Enter the name of a planet: MARS\n",
            "Invalid Planet\n",
            "None\n"
          ]
        }
      ]
    },
    {
      "cell_type": "code",
      "source": [
        "gravity_constant = {\n",
        "        \"Mercury\": 0.376,\n",
        "        \"Venus\": 0.889,\n",
        "        \"Mars\": 0.378,\n",
        "        \"Jupiter\": 2.360,\n",
        "        \"Saturn\": 1.081,\n",
        "        \"Uranus\": 0.815,\n",
        "        \"Neptune\": 1.140\n",
        "    }\n",
        "\n",
        "def Planetary_Weight_Calculator(Earth_Weight,Planet):\n",
        "\n",
        "    if Planet in gravity_constant:\n",
        "        Planet_Weight = Earth_Weight * gravity_constant[Planet]\n",
        "        return (\"The equivalent Weight on \" + Planet + \" is \" + str(round(Planet_Weight, 2)))\n",
        "    else:\n",
        "        return (\"Invalid Planet Name\")\n",
        "\n",
        "def main():\n",
        "  while True:\n",
        "    try:\n",
        "      Earth_Weight = float(input(\"Enter a weight on Earth: \"))\n",
        "      break\n",
        "    except ValueError:\n",
        "      print(\"Invalid Input! Weight must be a Numeric Value.\")\n",
        "\n",
        "\n",
        "  Planet = str(input(\"Enter the name of a planet: \"))\n",
        "  P_Calculator = Planetary_Weight_Calculator(Earth_Weight,Planet)\n",
        "  print(P_Calculator)\n",
        "\n",
        "main()\n",
        "\n"
      ],
      "metadata": {
        "colab": {
          "base_uri": "https://localhost:8080/"
        },
        "id": "Oz4olOOw22F4",
        "outputId": "8d258beb-d8a7-4758-8a8a-91c0ee2d85dc"
      },
      "execution_count": null,
      "outputs": [
        {
          "output_type": "stream",
          "name": "stdout",
          "text": [
            "Enter a weight on Earth: 5t\n",
            "Invalid Input! Weight must be a Numeric Value.\n",
            "Enter a weight on Earth: 6r\n",
            "Invalid Input! Weight must be a Numeric Value.\n",
            "Enter a weight on Earth: 60\n",
            "Enter the name of a planet: Mercury\n",
            "The equivalent Weight on Mercury is 22.56\n"
          ]
        }
      ]
    },
    {
      "cell_type": "code",
      "source": [],
      "metadata": {
        "id": "bjhX5QK_7BRf"
      },
      "execution_count": null,
      "outputs": []
    }
  ]
}