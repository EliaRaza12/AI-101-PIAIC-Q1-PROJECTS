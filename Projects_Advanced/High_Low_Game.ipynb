{
  "nbformat": 4,
  "nbformat_minor": 0,
  "metadata": {
    "colab": {
      "provenance": []
    },
    "kernelspec": {
      "name": "python3",
      "display_name": "Python 3"
    },
    "language_info": {
      "name": "python"
    }
  },
  "cells": [
    {
      "cell_type": "markdown",
      "source": [
        "# Problem: High Low\n",
        "We want you to gain more experience working with control flow and Booleans in Python. To do this, we are going to have you develop a game! The game is called High-Low and the way it's played goes as follows:\n",
        "\n",
        "Two numbers are generated from 1 to 100 (inclusive on both ends): one for you and one for a computer, who will be your opponent. You can see your number, but not the computer's!\n",
        "\n",
        "You make a guess, saying your number is either higher than or lower than the computer's number\n",
        "\n",
        "If your guess matches the truth (ex. you guess your number is higher, and then your number is actually higher than the computer's), you get a point!\n",
        "\n",
        "These steps make up one round of the game. The game is over after all rounds have been played."
      ],
      "metadata": {
        "id": "LRZ8NHiBwksG"
      }
    },
    {
      "cell_type": "markdown",
      "source": [
        "Here are some milestones to guide you through the problem:\n",
        "\n",
        "# Milestone #1: Generate the random numbers\n",
        "Generate the random numbers for you and the computer. For now, print both of them out to help you test the logic in later milestones."
      ],
      "metadata": {
        "id": "w8_B0xK7w0-y"
      }
    },
    {
      "cell_type": "code",
      "source": [
        "import random\n",
        "\n",
        "print(\"Welcome to the High-Low Game! \\n--------------------------------\")\n",
        "computer_num = random.randint(1,100)\n",
        "user_num = random.randint(1,100)\n",
        "print(\"The computer's number is \" + str(computer_num))\n",
        "print(\"Your number is \" + str(user_num))"
      ],
      "metadata": {
        "colab": {
          "base_uri": "https://localhost:8080/"
        },
        "id": "bZjC1ZnLw5hs",
        "outputId": "fa04562f-a117-4929-d0cf-943b92377a07"
      },
      "execution_count": null,
      "outputs": [
        {
          "output_type": "stream",
          "name": "stdout",
          "text": [
            "Welcome to the High-Low Game! \n",
            "--------------------------------\n",
            "The computer's number is 95\n",
            "Your number is 33\n"
          ]
        }
      ]
    },
    {
      "cell_type": "markdown",
      "source": [
        "# Milestone #2: Get the user choice\n",
        "Get user input for their choice of whether they think their number is higher or lower than the computer's number."
      ],
      "metadata": {
        "id": "QtnnJKGrx6To"
      }
    },
    {
      "cell_type": "code",
      "source": [
        "guess = str(input(\"Do you think your number is higher or lower than the computer's?: \"))"
      ],
      "metadata": {
        "colab": {
          "base_uri": "https://localhost:8080/"
        },
        "id": "GtCLN_Bqx5_K",
        "outputId": "528aa911-6087-4c39-a4b9-29922286b76b"
      },
      "execution_count": null,
      "outputs": [
        {
          "name": "stdout",
          "output_type": "stream",
          "text": [
            "Do you think your number is higher or lower than the computer's?: higher\n"
          ]
        }
      ]
    },
    {
      "cell_type": "markdown",
      "source": [
        "# Milestone #3: Write the game logic\n",
        "Write code that maps out all the ways to win the round and prints out the results. When does the user win? How might we check for this? (Note: If you and the computer share the same number, the computer should win since your number wouldn't be higher nor lower.)"
      ],
      "metadata": {
        "id": "UkdBdqNgzRBX"
      }
    },
    {
      "cell_type": "code",
      "source": [
        "if guess.lower() == \"higher\":\n",
        "    if user_num > computer_num:\n",
        "        print(\"You were right! The computer's number was \" + str(computer_num))\n",
        "    else:\n",
        "        print(\"Aww, that's incorrect. The computer's number was \" + str(computer_num))\n",
        "elif guess.lower() == \"lower\":\n",
        "    if user_num < computer_num:\n",
        "        print(\"You were right! The computer's number was \" + str(computer_num))\n",
        "    else:\n",
        "        print(\"Aww, that's incorrect. The computer's number was \" + str(computer_num))\n",
        "else:\n",
        "    print(\"Invalid Input\")"
      ],
      "metadata": {
        "colab": {
          "base_uri": "https://localhost:8080/"
        },
        "id": "HOn4QFypzXuh",
        "outputId": "676adaca-6882-49e6-a3ee-912cdcd0a738"
      },
      "execution_count": null,
      "outputs": [
        {
          "output_type": "stream",
          "name": "stdout",
          "text": [
            "Aww, that's incorrect. The computer's number was 95\n"
          ]
        }
      ]
    },
    {
      "cell_type": "code",
      "source": [
        "is_user_higher_than_computer : bool = True if user_num > computer_num else False\n",
        "is user_choice_correct : bool = True if (is_user_higher_than_computer and guess.lower() == \"higher\") or (not is_user_higher_than_computer and guess.lower() == \"lower\") else False"
      ],
      "metadata": {
        "id": "14RLaSeZ1jYG"
      },
      "execution_count": null,
      "outputs": []
    },
    {
      "cell_type": "markdown",
      "source": [
        "# Milestone #4: Play multiple rounds\n",
        "Milestones 1-3 make up a single round of the game. Now that your game logic is sound, you can remove the line printing out the computer's number. Next, write code to play multiple rounds of the game! How many rounds should they play you ask? We've provided you with the NUM_ROUNDS constant. NUM_ROUNDS is the number of rounds you should have the user play. For reference, in the first example, we had NUM_ROUNDS = 3. After each round, add a blank line to separate the rounds visually. Make sure to print out the round number as well!"
      ],
      "metadata": {
        "id": "B_hYJm0u4Fcs"
      }
    },
    {
      "cell_type": "code",
      "source": [
        "import random\n",
        "\n",
        "NUM_ROUNDS = 3\n",
        "\n",
        "print(\"Welcome to the High-Low Game!\")\n",
        "print(\"--------------------------------\")\n",
        "for i in range(1, NUM_ROUNDS, 1):\n",
        "\n",
        "  print(\"Round \" + str(i) )\n",
        "  computer_num = random.randint(1,100)\n",
        "  user_num = random.randint(1,100)\n",
        "  print(\"The computer's number is \" + str(computer_num))\n",
        "  print(\"Your number is \" + str(user_num))\n",
        "\n",
        "  guess = str(input(\"Do you think your number is higher or lower than the computer's?: \"))\n",
        "\n",
        "  if guess.lower() == \"higher\":\n",
        "      if user_num > computer_num:\n",
        "          print(\"You were right! The computer's number was \" + str(computer_num))\n",
        "      else:\n",
        "          print(\"Aww, that's incorrect. The computer's number was \" + str(computer_num))\n",
        "  elif guess.lower() == \"lower\":\n",
        "      if user_num < computer_num:\n",
        "          print(\"You were right! The computer's number was \" + str(computer_num))\n",
        "      else:\n",
        "          print(\"Aww, that's incorrect. The computer's number was \" + str(computer_num))\n",
        "  else:\n",
        "      print(\"Invalid Input\")\n",
        "\n",
        "  print()"
      ],
      "metadata": {
        "colab": {
          "base_uri": "https://localhost:8080/"
        },
        "id": "iSe7OR3H4Jh_",
        "outputId": "c6cf9768-4218-4627-a3e3-fe1e019cda18"
      },
      "execution_count": null,
      "outputs": [
        {
          "output_type": "stream",
          "name": "stdout",
          "text": [
            "Welcome to the High-Low Game!\n",
            "--------------------------------\n",
            "Round 1\n",
            "The computer's number is 8\n",
            "Your number is 75\n",
            "Do you think your number is higher or lower than the computer's?: higher\n",
            "You were right! The computer's number was 8\n",
            "\n",
            "Round 2\n",
            "The computer's number is 34\n",
            "Your number is 21\n",
            "Do you think your number is higher or lower than the computer's?: higher\n",
            "Aww, that's incorrect. The computer's number was 34\n",
            "\n"
          ]
        }
      ]
    },
    {
      "cell_type": "markdown",
      "source": [
        "# Milestone #5: Adding a points system\n",
        "Keep track of the player's score! You should print out the player's score after each round. After this step, you will have coded up the entire game!"
      ],
      "metadata": {
        "id": "6mnh0tML7PHN"
      }
    },
    {
      "cell_type": "code",
      "source": [
        "import random\n",
        "\n",
        "NUM_ROUNDS = 3\n",
        "SCORE = 0\n",
        "\n",
        "print(\"Welcome to the High-Low Game!\")\n",
        "print(\"--------------------------------\")\n",
        "for i in range(1, NUM_ROUNDS + 1, 1):\n",
        "\n",
        "  print(\"Round \" + str(i) )\n",
        "  computer_num = random.randint(1,100)\n",
        "  user_num = random.randint(1,100)\n",
        "  print(\"The computer's number is \" + str(computer_num))\n",
        "  print(\"Your number is \" + str(user_num))\n",
        "\n",
        "  guess = str(input(\"Do you think your number is higher or lower than the computer's?: \"))\n",
        "\n",
        "  if ((guess.lower() == \"higher\") & (user_num > computer_num)) | ((guess.lower() == \"lower\") & (user_num < computer_num)):\n",
        "      SCORE += 1\n",
        "      print(\"You were right! The computer's number was \" + str(computer_num))\n",
        "  else:\n",
        "          print(\"Aww, that's incorrect. The computer's number was \" + str(computer_num))\n",
        "  print(\"Your score is now \" + str(SCORE))\n",
        "\n",
        "\n",
        "\n",
        "  print()"
      ],
      "metadata": {
        "colab": {
          "base_uri": "https://localhost:8080/"
        },
        "outputId": "54b87afd-063a-44af-845d-0dce69753b8f",
        "id": "P0hN_hAF7bqk"
      },
      "execution_count": null,
      "outputs": [
        {
          "output_type": "stream",
          "name": "stdout",
          "text": [
            "Welcome to the High-Low Game!\n",
            "--------------------------------\n",
            "Round 1\n",
            "The computer's number is 37\n",
            "Your number is 21\n",
            "Do you think your number is higher or lower than the computer's?: lower\n",
            "You were right! The computer's number was 37\n",
            "Your score is now 1\n",
            "\n",
            "Round 2\n",
            "The computer's number is 34\n",
            "Your number is 89\n",
            "Do you think your number is higher or lower than the computer's?: lower\n",
            "Aww, that's incorrect. The computer's number was 34\n",
            "Your score is now 1\n",
            "\n",
            "Round 3\n",
            "The computer's number is 42\n",
            "Your number is 25\n",
            "Do you think your number is higher or lower than the computer's?: lower\n",
            "You were right! The computer's number was 42\n",
            "Your score is now 2\n",
            "\n"
          ]
        }
      ]
    },
    {
      "cell_type": "markdown",
      "source": [
        "# HighLow Game Using OOP!"
      ],
      "metadata": {
        "id": "D0oQBHSmkApk"
      }
    },
    {
      "cell_type": "code",
      "source": [],
      "metadata": {
        "id": "fjlkZuv_83ZT"
      },
      "execution_count": null,
      "outputs": []
    },
    {
      "cell_type": "code",
      "source": [
        "import random\n",
        "\n",
        "class HighLowGame:\n",
        "    def __init__(self, rounds):\n",
        "        self.rounds = rounds\n",
        "        self.score = 0\n",
        "\n",
        "    def play(self):\n",
        "        print(\"Welcome to the High-Low Game!\")\n",
        "        print(\"------------------------------\")\n",
        "        for round_num in range(1, self.rounds + 1, 1):\n",
        "            print(\"Round \" + str (round_num))\n",
        "            computer_num = random.randint(1, 100)\n",
        "            user_num = random.randint(1, 100)\n",
        "\n",
        "            print(\"The computer's number is \" + str(computer_num))\n",
        "            print(\"Your number is \" + str(user_num))\n",
        "            guess = input(\"Higher or lower? \").lower()\n",
        "\n",
        "            if ((guess.lower() == \"higher\") & (user_num > computer_num)) | ((guess.lower() == \"lower\") & (user_num < computer_num)):\n",
        "              self.score += 1\n",
        "              print(\"You were right! The computer's number was \" + str(computer_num))\n",
        "            else:\n",
        "              print(\"Aww, that's incorrect. The computer's number was \" + str(computer_num))\n",
        "              print(\"Your score is now \" + str(self.score))\n",
        "\n",
        "            print()\n",
        "\n",
        "        print(\"Game over! Your final score is \" + str(self.score))\n",
        "\n",
        "def main():\n",
        "    NUM_ROUNDS = 3\n",
        "    game = HighLowGame(NUM_ROUNDS)\n",
        "    game.play()\n",
        "main()\n"
      ],
      "metadata": {
        "colab": {
          "base_uri": "https://localhost:8080/"
        },
        "id": "ZDmmtttUm6_6",
        "outputId": "de13e64a-4f08-4fac-972c-18a0ba2ab6f0"
      },
      "execution_count": null,
      "outputs": [
        {
          "output_type": "stream",
          "name": "stdout",
          "text": [
            "Welcome to the High-Low Game!\n",
            "------------------------------\n",
            "Round 1\n",
            "The computer's number is 27\n",
            "Your number is 74\n",
            "Higher or lower? lower\n",
            "Aww, that's incorrect. The computer's number was 27\n",
            "Your score is now 0\n",
            "\n",
            "Round 2\n",
            "The computer's number is 21\n",
            "Your number is 83\n",
            "Higher or lower? higher\n",
            "You were right! The computer's number was 21\n",
            "\n",
            "Round 3\n",
            "The computer's number is 59\n",
            "Your number is 22\n",
            "Higher or lower? lower\n",
            "You were right! The computer's number was 59\n",
            "\n",
            "Game over! Your final score is 2\n"
          ]
        }
      ]
    }
  ]
}