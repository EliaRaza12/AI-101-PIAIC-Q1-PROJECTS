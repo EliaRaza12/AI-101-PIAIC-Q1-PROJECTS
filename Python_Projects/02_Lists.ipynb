{
  "nbformat": 4,
  "nbformat_minor": 0,
  "metadata": {
    "colab": {
      "provenance": []
    },
    "kernelspec": {
      "name": "python3",
      "display_name": "Python 3"
    },
    "language_info": {
      "name": "python"
    }
  },
  "cells": [
    {
      "cell_type": "markdown",
      "source": [
        "# **Add many Numbers**\n",
        "\n",
        "### Write a function that takes a list of numbers and returns the sum of those numbers."
      ],
      "metadata": {
        "id": "r-KZIGgN2zDR"
      }
    },
    {
      "cell_type": "code",
      "source": [
        "# Sum of List of Numbers\n",
        "# Function that takes a list of numbers and returns the sum of those numbers.\n",
        "\n",
        "numbers = [int(x) for x in input(\"Enter a list of numbers: \").split()]\n",
        "print(\"List of numbers:\", numbers)\n",
        "\n",
        "sum = 0\n",
        "for i in range(len(numbers)):\n",
        "  sum += numbers[i]\n",
        "\n",
        "print(\"Sum of numbers:\", sum)"
      ],
      "metadata": {
        "colab": {
          "base_uri": "https://localhost:8080/"
        },
        "outputId": "7088d7de-55ff-4857-dca7-40dd9df81fa4",
        "id": "m0fX92E4njoA"
      },
      "execution_count": null,
      "outputs": [
        {
          "output_type": "stream",
          "name": "stdout",
          "text": [
            "Enter a list of numbers: 2 2 2 2\n",
            "List of numbers: [2, 2, 2, 2]\n",
            "Sum of numbers: 8\n"
          ]
        }
      ]
    },
    {
      "cell_type": "code",
      "source": [
        "# Sum of List of Numbers\n",
        "# Function that takes a list of numbers and returns the sum of those numbers.\n",
        "\n",
        "numbers = [int(x) for x in input(\"Enter a list of numbers: \").split()]\n",
        "print(\"List of numbers:\", numbers)\n",
        "\n",
        "sum = 0\n",
        "for i in numbers:\n",
        "  sum += i\n",
        "print(\"Sum of numbers:\", sum)"
      ],
      "metadata": {
        "colab": {
          "base_uri": "https://localhost:8080/"
        },
        "id": "6qIHhBQXmvKq",
        "outputId": "7d2173db-69a8-47f9-a063-328c98f8170e"
      },
      "execution_count": null,
      "outputs": [
        {
          "output_type": "stream",
          "name": "stdout",
          "text": [
            "Enter a list of numbers: 1 2 3 4\n",
            "List of numbers: [1, 2, 3, 4]\n",
            "Sum of numbers: 10\n"
          ]
        }
      ]
    },
    {
      "cell_type": "markdown",
      "source": [
        "# **Double list**\n",
        "\n",
        "### Write a program that doubles each element in a list of numbers."
      ],
      "metadata": {
        "id": "NM2y3hFA3Gl3"
      }
    },
    {
      "cell_type": "code",
      "execution_count": null,
      "metadata": {
        "colab": {
          "base_uri": "https://localhost:8080/"
        },
        "id": "12gvyTeKWD4h",
        "outputId": "4876d960-09d3-40c1-907d-11540c8d8b6b"
      },
      "outputs": [
        {
          "output_type": "stream",
          "name": "stdout",
          "text": [
            "Enter a list of numbers: 1 2 3 4\n",
            "List of numbers: [1, 2, 3, 4]\n",
            "[2, 4, 6, 8]\n"
          ]
        }
      ],
      "source": [
        "# program that doubles each element in a list of numbers.\n",
        "numbers = [int(x) for x in input(\"Enter a list of numbers: \").split()]\n",
        "print(\"List of numbers:\", numbers)\n",
        "\n",
        "for i in range(len(numbers)):\n",
        "  numbers[i] = numbers[i] * 2\n",
        "print(numbers)\n",
        "\n",
        "\n"
      ]
    },
    {
      "cell_type": "markdown",
      "source": [
        "# **Erase Canvas**\n",
        "\n",
        "### Implement an 'eraser' on a canvas.\n",
        "\n",
        "### The canvas consists of a grid of blue 'cells' which are drawn as rectangles on the screen. We then create an eraser rectangle which, when dragged around the canvas, sets all of the rectangles it is in contact with to white."
      ],
      "metadata": {
        "id": "xOenLKIB3cdx"
      }
    },
    {
      "cell_type": "code",
      "source": [
        "# Implement an 'eraser' on a canvas.\n",
        "\n",
        "import tkinter as tk\n",
        "\n",
        "# Set up the main window\n",
        "root = tk.Tk()\n",
        "root.title(\"Canvas Eraser\")\n",
        "\n",
        "# Canvas size and cell settings\n",
        "canvas_width, canvas_height = 400, 400\n",
        "cell_size = 20\n",
        "\n",
        "# Create a canvas\n",
        "canvas = tk.Canvas(root, width=canvas_width, height=canvas_height, bg=\"white\")\n",
        "canvas.pack()\n",
        "\n",
        "# Draw grid of blue cells\n",
        "cells = {}\n",
        "for x in range(0, canvas_width, cell_size):\n",
        "    for y in range(0, canvas_height, cell_size):\n",
        "        rect = canvas.create_rectangle(x, y, x + cell_size, y + cell_size, fill=\"blue\", outline=\"blue\")\n",
        "        cells[(x, y)] = rect  # Store cell rectangles in a dictionary\n",
        "\n",
        "# Eraser function\n",
        "def erase(event):\n",
        "    # Get the top-left corner of the cell the mouse is over\n",
        "    x = (event.x // cell_size) * cell_size\n",
        "    y = (event.y // cell_size) * cell_size\n",
        "    # Set the cell to white\n",
        "    if (x, y) in cells:\n",
        "        canvas.itemconfig(cells[(x, y)], fill=\"white\", outline=\"white\")\n",
        "\n",
        "# Bind the mouse movement to the erase function\n",
        "canvas.bind(\"<B1-Motion>\", erase)\n",
        "\n",
        "# Run the application\n",
        "root.mainloop()\n"
      ],
      "metadata": {
        "colab": {
          "base_uri": "https://localhost:8080/",
          "height": 332
        },
        "collapsed": true,
        "id": "GVfx6JdMoBXn",
        "outputId": "18f09edc-8c26-4e4e-9018-cd03befaa0b8"
      },
      "execution_count": null,
      "outputs": [
        {
          "output_type": "error",
          "ename": "TclError",
          "evalue": "no display name and no $DISPLAY environment variable",
          "traceback": [
            "\u001b[0;31m---------------------------------------------------------------------------\u001b[0m",
            "\u001b[0;31mTclError\u001b[0m                                  Traceback (most recent call last)",
            "\u001b[0;32m<ipython-input-6-16d478bf22e4>\u001b[0m in \u001b[0;36m<cell line: 6>\u001b[0;34m()\u001b[0m\n\u001b[1;32m      4\u001b[0m \u001b[0;34m\u001b[0m\u001b[0m\n\u001b[1;32m      5\u001b[0m \u001b[0;31m# Set up the main window\u001b[0m\u001b[0;34m\u001b[0m\u001b[0;34m\u001b[0m\u001b[0m\n\u001b[0;32m----> 6\u001b[0;31m \u001b[0mroot\u001b[0m \u001b[0;34m=\u001b[0m \u001b[0mtk\u001b[0m\u001b[0;34m.\u001b[0m\u001b[0mTk\u001b[0m\u001b[0;34m(\u001b[0m\u001b[0;34m)\u001b[0m\u001b[0;34m\u001b[0m\u001b[0;34m\u001b[0m\u001b[0m\n\u001b[0m\u001b[1;32m      7\u001b[0m \u001b[0mroot\u001b[0m\u001b[0;34m.\u001b[0m\u001b[0mtitle\u001b[0m\u001b[0;34m(\u001b[0m\u001b[0;34m\"Canvas Eraser\"\u001b[0m\u001b[0;34m)\u001b[0m\u001b[0;34m\u001b[0m\u001b[0;34m\u001b[0m\u001b[0m\n\u001b[1;32m      8\u001b[0m \u001b[0;34m\u001b[0m\u001b[0m\n",
            "\u001b[0;32m/usr/lib/python3.10/tkinter/__init__.py\u001b[0m in \u001b[0;36m__init__\u001b[0;34m(self, screenName, baseName, className, useTk, sync, use)\u001b[0m\n\u001b[1;32m   2297\u001b[0m                 \u001b[0mbaseName\u001b[0m \u001b[0;34m=\u001b[0m \u001b[0mbaseName\u001b[0m \u001b[0;34m+\u001b[0m \u001b[0mext\u001b[0m\u001b[0;34m\u001b[0m\u001b[0;34m\u001b[0m\u001b[0m\n\u001b[1;32m   2298\u001b[0m         \u001b[0minteractive\u001b[0m \u001b[0;34m=\u001b[0m \u001b[0;32mFalse\u001b[0m\u001b[0;34m\u001b[0m\u001b[0;34m\u001b[0m\u001b[0m\n\u001b[0;32m-> 2299\u001b[0;31m         \u001b[0mself\u001b[0m\u001b[0;34m.\u001b[0m\u001b[0mtk\u001b[0m \u001b[0;34m=\u001b[0m \u001b[0m_tkinter\u001b[0m\u001b[0;34m.\u001b[0m\u001b[0mcreate\u001b[0m\u001b[0;34m(\u001b[0m\u001b[0mscreenName\u001b[0m\u001b[0;34m,\u001b[0m \u001b[0mbaseName\u001b[0m\u001b[0;34m,\u001b[0m \u001b[0mclassName\u001b[0m\u001b[0;34m,\u001b[0m \u001b[0minteractive\u001b[0m\u001b[0;34m,\u001b[0m \u001b[0mwantobjects\u001b[0m\u001b[0;34m,\u001b[0m \u001b[0museTk\u001b[0m\u001b[0;34m,\u001b[0m \u001b[0msync\u001b[0m\u001b[0;34m,\u001b[0m \u001b[0muse\u001b[0m\u001b[0;34m)\u001b[0m\u001b[0;34m\u001b[0m\u001b[0;34m\u001b[0m\u001b[0m\n\u001b[0m\u001b[1;32m   2300\u001b[0m         \u001b[0;32mif\u001b[0m \u001b[0museTk\u001b[0m\u001b[0;34m:\u001b[0m\u001b[0;34m\u001b[0m\u001b[0;34m\u001b[0m\u001b[0m\n\u001b[1;32m   2301\u001b[0m             \u001b[0mself\u001b[0m\u001b[0;34m.\u001b[0m\u001b[0m_loadtk\u001b[0m\u001b[0;34m(\u001b[0m\u001b[0;34m)\u001b[0m\u001b[0;34m\u001b[0m\u001b[0;34m\u001b[0m\u001b[0m\n",
            "\u001b[0;31mTclError\u001b[0m: no display name and no $DISPLAY environment variable"
          ]
        }
      ]
    },
    {
      "cell_type": "code",
      "source": [
        "import matplotlib.pyplot as plt\n",
        "import numpy as np\n",
        "\n",
        "# Set up grid size and cell properties\n",
        "grid_size = (20, 20)\n",
        "cell_size = 20\n",
        "canvas = np.ones(grid_size) * 255  # White canvas, where 255 represents white color\n",
        "\n",
        "# Function to draw the grid\n",
        "def draw_canvas():\n",
        "    plt.imshow(canvas, cmap=\"Blues\", vmin=0, vmax=255)\n",
        "    plt.axis(\"off\")\n",
        "    plt.show()\n",
        "\n",
        "# Initialize grid with blue color (represented by lower values in grayscale)\n",
        "canvas.fill(100)\n",
        "\n",
        "# Erase function to set cells to white\n",
        "def erase(x, y):\n",
        "    # Calculate cell position\n",
        "    cell_x = x // cell_size\n",
        "    cell_y = y // cell_size\n",
        "    if 0 <= cell_x < grid_size[1] and 0 <= cell_y < grid_size[0]:  # Within bounds\n",
        "        canvas[cell_y, cell_x] = 255  # Set cell to white\n",
        "\n",
        "# Interactive erasing on click\n",
        "def on_click(event):\n",
        "    if event.inaxes:\n",
        "        erase(int(event.xdata), int(event.ydata))\n",
        "        draw_canvas()  # Redraw canvas after erasing\n",
        "\n",
        "# Set up plot\n",
        "fig, ax = plt.subplots()\n",
        "fig.canvas.mpl_connect(\"button_press_event\", on_click)\n",
        "draw_canvas()\n"
      ],
      "metadata": {
        "colab": {
          "base_uri": "https://localhost:8080/",
          "height": 406
        },
        "id": "jizN_Z9JpXUz",
        "outputId": "bdc7353c-ad0c-4d9b-a067-a884b981f8a5"
      },
      "execution_count": null,
      "outputs": [
        {
          "output_type": "display_data",
          "data": {
            "text/plain": [
              "<Figure size 640x480 with 1 Axes>"
            ],
            "image/png": "[encoded data removed]"
          },
          "metadata": {}
        }
      ]
    },
    {
      "cell_type": "markdown",
      "source": [
        "# **Flowing with Data Structures**\n",
        "\n",
        "### In the information flow lesson, we discussed using a variable storing a number as an example of scope. We saw that changes we made to the number inside a function did not stay unless we returned it. This is true for what we call immutable data types which include things like numbers and strings.\n",
        "\n",
        "### However, there are also mutable data types where changes stay even if we don't return anything. Some examples of mutable data types are lists and dictionaries. This means that you should be mindful when modifying lists and dictionaries within helper functions since their changes stay whether or not you return them.\n",
        "\n",
        "### To see this in action, fill out the add_three_copies(...) function which takes a list and some data and then adds three copies of the data to the list. Don't return anything and see what happens! Compare this process to the x = change(x) example and note the differences."
      ],
      "metadata": {
        "id": "3w38RSsk4Gws"
      }
    },
    {
      "cell_type": "code",
      "source": [
        "# Mutability\n",
        "# lists are mutable data types, meaning they can be changed directly without needing to reassign the variable.\n",
        "\n",
        "message = input(\"Enter a message to copy: \")\n",
        "\n",
        "my_list = []\n",
        "\n",
        "print(\"List before:\", my_list)\n",
        "\n",
        "def add_three_copies(list, data):\n",
        "  for i in range(3):\n",
        "    list.append(data)\n",
        "\n",
        "add_three_copies(my_list, message)\n",
        "\n",
        "print(\"List after:\", my_list)"
      ],
      "metadata": {
        "colab": {
          "base_uri": "https://localhost:8080/"
        },
        "id": "HFq2Ksohqu55",
        "outputId": "5c63de09-9b39-41ba-91a4-e2a52ec9a12d"
      },
      "execution_count": null,
      "outputs": [
        {
          "output_type": "stream",
          "name": "stdout",
          "text": [
            "Enter a message to copy: Hello World!\n",
            "List before: []\n",
            "List after: ['Hello World!', 'Hello World!', 'Hello World!']\n"
          ]
        }
      ]
    },
    {
      "cell_type": "markdown",
      "source": [
        "# **Get First Element!**\n",
        "\n",
        "### Fill out the function get_first_element(lst) which takes in a list lst as a parameter and prints the first element in the list. The list is guaranteed to be non-empty. We've written some code for you which prompts the user to input the list one element at a time."
      ],
      "metadata": {
        "id": "bFswEGmA4Z-W"
      }
    },
    {
      "cell_type": "code",
      "source": [
        "# Get First Element!\n",
        "\n",
        "List_of_num = [int(x) for x in input(\"Enter a list of numbers: \").split()]\n",
        "\n",
        "def get_first_element(list):\n",
        "  return list[0]\n",
        "\n",
        "print(\"First element:\", get_first_element(List_of_num))\n"
      ],
      "metadata": {
        "colab": {
          "base_uri": "https://localhost:8080/"
        },
        "id": "q2Wki_XZsaGs",
        "outputId": "02391797-a30e-466b-d2f6-c717a206db3d"
      },
      "execution_count": null,
      "outputs": [
        {
          "output_type": "stream",
          "name": "stdout",
          "text": [
            "Enter a list of numbers: 1 2 3 4 5\n",
            "First element: 1\n"
          ]
        }
      ]
    },
    {
      "cell_type": "markdown",
      "source": [
        "# **Get Last Element!**\n",
        "\n",
        "### Fill out the function get_last_element(lst) which takes in a list lst as a parameter and prints the last element in the list. The list is guaranteed to be non-empty, but there are no guarantees on its length."
      ],
      "metadata": {
        "id": "TXWVFDdb4nPF"
      }
    },
    {
      "cell_type": "code",
      "source": [
        "# Get Last Element!\n",
        "\n",
        "List_of_num = [int(x) for x in input(\"Enter a list of numbers: \").split()]\n",
        "\n",
        "def get_last_element(list):\n",
        "  return list[-1]\n",
        "\n",
        "print(\"Last element:\", get_last_element(List_of_num))\n",
        "\n"
      ],
      "metadata": {
        "colab": {
          "base_uri": "https://localhost:8080/",
          "height": 0
        },
        "id": "yeDGbrYIt78D",
        "outputId": "3ddf97ea-e7a9-4c7a-ad87-aa41b3e76c7d"
      },
      "execution_count": 1,
      "outputs": [
        {
          "output_type": "stream",
          "name": "stdout",
          "text": [
            "Enter a list of numbers: 1 2 3 4 5\n",
            "Last element: 5\n"
          ]
        }
      ]
    },
    {
      "cell_type": "markdown",
      "source": [
        "# **Get List**\n",
        "\n",
        "### Write a program which continuously asks the user to enter values which are added one by one into a list. When the user presses enter without typing anything, print the list."
      ],
      "metadata": {
        "id": "Qimud1kc5Kup"
      }
    },
    {
      "cell_type": "code",
      "source": [
        "# Get List\n",
        "\n",
        "lst = []\n",
        "value = input(\"Enter a value: \")\n",
        "while value != \"\":\n",
        "  lst.append(value)\n",
        "  value = input(\"Enter a value: \")\n",
        "\n",
        "print(\"List:\", lst)"
      ],
      "metadata": {
        "colab": {
          "base_uri": "https://localhost:8080/"
        },
        "id": "SP7CVKA0aLAy",
        "outputId": "8547b4bd-c3a2-4155-b9ab-29476bee71a1"
      },
      "execution_count": null,
      "outputs": [
        {
          "output_type": "stream",
          "name": "stdout",
          "text": [
            "Enter a value: 1\n",
            "Enter a value: 2\n",
            "Enter a value: 3\n",
            "Enter a value: 4\n",
            "Enter a value: 5\n",
            "Enter a value: 6\n",
            "Enter a value: 7\n",
            "Enter a value: 8\n",
            "Enter a value: 9\n",
            "Enter a value:   \n",
            "Enter a value: \n",
            "List: ['1', '2', '3', '4', '5', '6', '7', '8', '9', '  ']\n"
          ]
        }
      ]
    },
    {
      "cell_type": "markdown",
      "source": [
        "# **Shorten List**\n",
        "\n",
        "### Fill out the function shorten(lst) which removes elements from the end of lst, which is a list, and prints each item it removes until lst is MAX_LENGTH items long. If lst is already shorter than MAX_LENGTH you should leave it unchanged. We've written a main() function for you which gets a list and passes it into your function once you run the program. For the autograder to pass you will need MAX_LENGTH to be 3, but feel free to change it around to test your program."
      ],
      "metadata": {
        "id": "wYnxGNou5fRV"
      }
    },
    {
      "cell_type": "code",
      "source": [
        "# Shorten List\n",
        "\n",
        "MAX_LENGTH = 3\n",
        "\n",
        "def shorten(lst):\n",
        "\n",
        "    while len(lst) > MAX_LENGTH:\n",
        "\n",
        "        removed_item = lst.pop()\n",
        "        print(\"Removed:\", removed_item)\n",
        "\n",
        "def main():\n",
        "\n",
        "    user_list = input(\"Enter a list of items separated by spaces: \").split()\n",
        "\n",
        "    print(\"List before shortening:\", user_list)\n",
        "\n",
        "    shorten(user_list)\n",
        "\n",
        "    print(\"List after shortening:\", user_list)\n",
        "\n",
        "main()\n"
      ],
      "metadata": {
        "colab": {
          "base_uri": "https://localhost:8080/"
        },
        "id": "aFlz66xFcXCv",
        "outputId": "0d60e15e-f307-4e81-b018-f61ed79a9c78"
      },
      "execution_count": null,
      "outputs": [
        {
          "output_type": "stream",
          "name": "stdout",
          "text": [
            "Enter a list of items separated by spaces: 1 2 3 4 5 6 7\n",
            "List before shortening: ['1', '2', '3', '4', '5', '6', '7']\n",
            "Removed: 7\n",
            "Removed: 6\n",
            "Removed: 5\n",
            "Removed: 4\n",
            "List after shortening: ['1', '2', '3']\n"
          ]
        }
      ]
    }
  ]
}