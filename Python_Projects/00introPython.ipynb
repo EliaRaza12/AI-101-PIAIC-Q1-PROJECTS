{
  "nbformat": 4,
  "nbformat_minor": 0,
  "metadata": {
    "colab": {
      "provenance": []
    },
    "kernelspec": {
      "name": "python3",
      "display_name": "Python 3"
    },
    "language_info": {
      "name": "python"
    }
  },
  "cells": [
    {
      "cell_type": "markdown",
      "source": [
        "# **Add Two Numbers**"
      ],
      "metadata": {
        "id": "p7KWtrfdt-t3"
      }
    },
    {
      "cell_type": "markdown",
      "source": [
        "### Write a Python program that takes two integer inputs from the user and calculates their sum. The program should perform the following tasks:\n",
        "\n",
        "### Prompt the user to enter the first number.\n",
        "\n",
        "### Read the input and convert it to an integer.\n",
        "\n",
        "### Prompt the user to enter the second number.\n",
        "\n",
        "### Read the input and convert it to an integer.\n",
        "\n",
        "### Calculate the sum of the two numbers.\n",
        "\n",
        "### Print the total sum with an appropriate message."
      ],
      "metadata": {
        "id": "A6Oz4fHuuKIh"
      }
    },
    {
      "cell_type": "code",
      "source": [
        "#Python program that takes two integer inputs from the user and calculates their sum.\n",
        "num1 = int(input(\"Enter the first number: \"))\n",
        "num2 = int(input(\"Enter the second number: \"))\n",
        "total = num1 + num2\n",
        "print(\"The sum of\", num1, \"and\", num2, \"is:\", total)"
      ],
      "metadata": {
        "colab": {
          "base_uri": "https://localhost:8080/"
        },
        "id": "0SM9vGsVUfWR",
        "outputId": "78b107f9-7e12-4d91-e677-5824e4c96650"
      },
      "execution_count": null,
      "outputs": [
        {
          "output_type": "stream",
          "name": "stdout",
          "text": [
            "Enter the first number: 2\n",
            "Enter the second number: 4\n",
            "The sum of 2 and 4 is: 6\n"
          ]
        }
      ]
    },
    {
      "cell_type": "code",
      "source": [
        "def calculate_sum():\n",
        "  try:\n",
        "    num1=int(input(\"Enter the first number: \"))\n",
        "    num2=int(input(\"Enter the second number: \"))\n",
        "    total=num1+num2\n",
        "    print(\"The sum of\", num1, \"and\", num2, \"is:\", total)\n",
        "  except ValueError:\n",
        "    print(\"Invalid input. Please enter integers only.\")\n",
        "    exit()\n",
        "calculate_sum()"
      ],
      "metadata": {
        "colab": {
          "base_uri": "https://localhost:8080/"
        },
        "id": "Bh04zCLoWpwS",
        "outputId": "52ee20dc-b0f4-4927-c8d1-49062863e2d5"
      },
      "execution_count": null,
      "outputs": [
        {
          "output_type": "stream",
          "name": "stdout",
          "text": [
            "Enter the first number: t\n",
            "Invalid input. Please enter integers only.\n"
          ]
        }
      ]
    },
    {
      "cell_type": "markdown",
      "source": [
        "# **Agreement Bot**\n",
        "### Write a program which asks the user what their favorite animal is, and then always responds with \"My favorite animal is also ___!\""
      ],
      "metadata": {
        "id": "TM41K1gnub0F"
      }
    },
    {
      "cell_type": "code",
      "source": [
        "Q1 = str(input(\"What's your favourite animal? \"))\n",
        "print (\"\\nWow my favourite animal is also\",Q1+\"!\")\n"
      ],
      "metadata": {
        "colab": {
          "base_uri": "https://localhost:8080/"
        },
        "id": "SRQbinozX9Ft",
        "outputId": "e2e96257-9dd5-4e7b-a197-cf1794ea1e36"
      },
      "execution_count": null,
      "outputs": [
        {
          "output_type": "stream",
          "name": "stdout",
          "text": [
            "What's your favourite animal? yiyyi\n",
            "\n",
            "Wow my favourite animal is also yiyyi!\n"
          ]
        }
      ]
    },
    {
      "cell_type": "markdown",
      "source": [
        "# **Farenheit to Celsius**\n",
        "### Write a program which prompts the user for a temperature in Fahrenheit (this can be a number with decimal places!) and outputs the temperature converted to Celsius.\n",
        "### The equation you should use for converting from Fahrenheit to Celsius is the following:\n",
        "\n",
        "### degrees_celsius = (degrees_fahrenheit - 32) * 5.0/9.0"
      ],
      "metadata": {
        "id": "opg5jLx_uv8L"
      }
    },
    {
      "cell_type": "code",
      "source": [
        "#a program which prompts the user for a temperature in Fahrenheit\n",
        "# and outputs the temperature converted to Celsius.\n",
        "F = float(input(\"Enter the temperature in Fahrenheit: \"))\n",
        "C = (F-32)*5.0/9.0\n",
        "print(\"Temperature: \", str(F)+\"F =\", str(C)+\"C\")"
      ],
      "metadata": {
        "colab": {
          "base_uri": "https://localhost:8080/"
        },
        "id": "4rMyasDadw9p",
        "outputId": "8e78be2a-d75d-4d63-cd1f-e44c7449aa28"
      },
      "execution_count": null,
      "outputs": [
        {
          "output_type": "stream",
          "name": "stdout",
          "text": [
            "Enter the temperature in Fahrenheit: 76.0\n",
            "Temperature:  76.0F =  24.444444444444443C\n"
          ]
        }
      ]
    },
    {
      "cell_type": "markdown",
      "source": [
        "# **How old are they.**\n",
        "### Write a program to solve this age-related riddle!\n",
        "\n",
        "### Anton, Beth, Chen, Drew, and Ethan are all friends. Their ages are as follows:\n",
        "\n",
        "### Anton is 21 years old.\n",
        "\n",
        "### Beth is 6 years older than Anton.\n",
        "\n",
        "### Chen is 20 years older than Beth.\n",
        "\n",
        "### Drew is as old as Chen's age plus Anton's age.\n",
        "\n",
        "### Ethan is the same age as Chen."
      ],
      "metadata": {
        "id": "RK9DAu3vvNrt"
      }
    },
    {
      "cell_type": "code",
      "source": [
        "#program to solve this age-related riddle!\n",
        "anton : int = 21\n",
        "beth : int = 6 + anton\n",
        "chen : int = 20 + beth\n",
        "drew : int = chen + anton\n",
        "ethan : int = chen\n",
        "\n",
        "print (\"Anton is \" + str(anton) + \" years old.\")\n",
        "print (\"Beth is \" + str(beth) + \" years old.\")\n",
        "print (\"Chen is \" + str(chen) + \" years old.\")\n",
        "print (\"Drew is \" + str(drew) + \" years old.\")\n",
        "print (\"Ethan is \" + str(ethan) + \" years old.\")"
      ],
      "metadata": {
        "colab": {
          "base_uri": "https://localhost:8080/"
        },
        "id": "OOFEvPM1jP8X",
        "outputId": "b1eb2b1e-6dd1-4dbb-995c-bb42f91fea20"
      },
      "execution_count": null,
      "outputs": [
        {
          "output_type": "stream",
          "name": "stdout",
          "text": [
            "Anton is 21 years old.\n",
            "Beth is 27 years old.\n",
            "Chen is 47 years old.\n",
            "Drew is 68 years old.\n",
            "Ethan is 47 years old.\n"
          ]
        }
      ]
    },
    {
      "cell_type": "markdown",
      "source": [
        "# **Triangle Parameter**\n",
        "\n",
        "### Prompt the user to enter the lengths of each side of a triangle and then calculate and print the perimeter of the triangle (the sum of all of the side lengths)."
      ],
      "metadata": {
        "id": "wpadX3pQv1Ow"
      }
    },
    {
      "cell_type": "code",
      "source": [
        "#Program to calculate perimeter of the triangle (the sum of all of the side lengths)\n",
        "a = int(input(\"What is the length of side 1? \"))\n",
        "b = int(input(\"What is the length of side 2? \"))\n",
        "c = int(input(\"What is the length of side 3? \"))\n",
        "perimeter: int = a + b + c\n",
        "print(\"The perimeter of the triangle is\", perimeter)\n"
      ],
      "metadata": {
        "colab": {
          "base_uri": "https://localhost:8080/"
        },
        "id": "NHW2HXMbloxV",
        "outputId": "ff2865fb-140a-4563-b273-ea9a9217fe62"
      },
      "execution_count": null,
      "outputs": [
        {
          "output_type": "stream",
          "name": "stdout",
          "text": [
            "What is the length of side 1? 2\n",
            "What is the length of side 2? 2\n",
            "What is the length of side 3? 2\n",
            "The perimeter of the triangle is 6\n"
          ]
        }
      ]
    },
    {
      "cell_type": "markdown",
      "source": [
        "# **Square of a Number**\n",
        "\n",
        "### Ask the user for a number and print its square (the product of the number times itself)."
      ],
      "metadata": {
        "id": "v1ZbHvSbwFWx"
      }
    },
    {
      "cell_type": "code",
      "source": [
        "#print the square of a number\n",
        "\n",
        "num = int(input(\"Type a number to see its square: \"))\n",
        "square = num ** 2               # num * num\n",
        "print(str(num) + \" squared is \" + str(square))"
      ],
      "metadata": {
        "colab": {
          "base_uri": "https://localhost:8080/"
        },
        "id": "ZbUiRNZfnNOw",
        "outputId": "60815102-5c43-42a3-c434-c6e20283c356"
      },
      "execution_count": null,
      "outputs": [
        {
          "output_type": "stream",
          "name": "stdout",
          "text": [
            "Type a number to see its square: 2\n",
            "2 squared is 4\n"
          ]
        }
      ]
    }
  ]
}