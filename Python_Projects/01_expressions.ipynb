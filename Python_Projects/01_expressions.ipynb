{
  "nbformat": 4,
  "nbformat_minor": 0,
  "metadata": {
    "colab": {
      "provenance": []
    },
    "kernelspec": {
      "name": "python3",
      "display_name": "Python 3"
    },
    "language_info": {
      "name": "python"
    }
  },
  "cells": [
    {
      "cell_type": "markdown",
      "source": [
        "# **Dicesimulator**\n",
        "\n",
        "### Simulate rolling two dice, three times. Prints the results of each die roll. This program is used to show how variable scope works."
      ],
      "metadata": {
        "id": "MY_sG6Oczj0q"
      }
    },
    {
      "cell_type": "code",
      "execution_count": null,
      "metadata": {
        "colab": {
          "base_uri": "https://localhost:8080/"
        },
        "id": "a9MlGKMenjYT",
        "outputId": "79d3dad4-2bc1-4cdc-f0f1-1e509d0515b9"
      },
      "outputs": [
        {
          "output_type": "stream",
          "name": "stdout",
          "text": [
            "Roll 1 : Die 1 = 4 , Die 2 = 1\n",
            "Roll 2 : Die 1 = 4 , Die 2 = 5\n",
            "Roll 3 : Die 1 = 4 , Die 2 = 4\n"
          ]
        }
      ],
      "source": [
        "# Program: dicesimulator\n",
        "\n",
        "import random                    # Import the random module to use random numbers\n",
        "\n",
        "# Roll dice three times\n",
        "for i in range(3):\n",
        "    # Roll the first die and the second die\n",
        "    die1 = random.randint(1, 6)  # Generates a random number between 1 and 6\n",
        "    die2 = random.randint(1, 6)\n",
        "\n",
        "    print(\"Roll\", i + 1, \": Die 1 =\", die1, \", Die 2 =\", die2)"
      ]
    },
    {
      "cell_type": "code",
      "source": [
        "import random\n",
        "\n",
        "def roll_dice():\n",
        "    return random.randint(1, 6)\n",
        "\n",
        "def simulate_rolls():\n",
        "    for i in range(1, 4):  # This will repeat three times\n",
        "        die1 = roll_dice()\n",
        "        die2 = roll_dice()\n",
        "        print(f\"Roll {i}: Die 1 = {die1}, Die 2 = {die2}\")\n",
        "\n",
        "simulate_rolls()\n"
      ],
      "metadata": {
        "colab": {
          "base_uri": "https://localhost:8080/"
        },
        "id": "dQZZutLppB3L",
        "outputId": "f1b6a018-3ac7-486b-9ab2-db5c00d704b0"
      },
      "execution_count": null,
      "outputs": [
        {
          "output_type": "stream",
          "name": "stdout",
          "text": [
            "Roll 1: Die 1 = 4, Die 2 = 1\n",
            "Roll 2: Die 1 = 5, Die 2 = 4\n",
            "Roll 3: Die 1 = 2, Die 2 = 4\n"
          ]
        }
      ]
    },
    {
      "cell_type": "markdown",
      "source": [
        "# **Einstein's mass-energy equivalence formula**\n",
        "\n",
        "### Write a program that continually reads in mass from the user and then outputs the equivalent energy using Einstein's mass-energy equivalence formula (E stands for energy, m stands for mass, and C is the speed of light:\n",
        "\n",
        "### E = m * c**2"
      ],
      "metadata": {
        "id": "10tBFuC59Rjm"
      }
    },
    {
      "cell_type": "code",
      "source": [
        "# program that continually reads in mass from the user\n",
        "# and then outputs the equivalent energy using Einstein's mass-energy equivalence formula\n",
        "\n",
        "mass = float(input(\"Enter kilos of mass: \"))\n",
        "\n",
        "C: int = 299792458\n",
        "e: float = mass * (C ** 2)\n",
        "\n",
        "print(\"E = m * c^2\")\n",
        "print(\"M = \"+ str(mass) + \" kg!\")\n",
        "print(\"C = \"+ str(C) +  \" m/s\")\n",
        "print(str(e) + \" joules of energy!\")"
      ],
      "metadata": {
        "colab": {
          "base_uri": "https://localhost:8080/"
        },
        "id": "T2G08GvYpnQ2",
        "outputId": "814edce4-c392-4b71-fff0-f3405022ec4c"
      },
      "execution_count": null,
      "outputs": [
        {
          "output_type": "stream",
          "name": "stdout",
          "text": [
            "Enter kilos of mass: 100.0\n",
            "E = m * c^2\n",
            "M = 100.0 kg!\n",
            "C = 299792458 m/s\n",
            "8.987551787368176e+18 joules of energy!\n"
          ]
        }
      ]
    },
    {
      "cell_type": "markdown",
      "source": [
        "# **Feet to Inches**\n",
        "\n",
        "### Converts feet to inches. Feet is an American unit of measurement. There are 12 inches per foot. Foot is the singular, and feet is the plural."
      ],
      "metadata": {
        "id": "fAF5tyYj0RkB"
      }
    },
    {
      "cell_type": "code",
      "source": [
        "# Converts feet to inches.\n",
        "\n",
        "feet = float(input(\"Enter the number of feet: \"))\n",
        "\n",
        "inches: float = feet * 12\n",
        "\n",
        "print(str(feet) + \" feet is \" + str(inches) + \" inches.\")"
      ],
      "metadata": {
        "colab": {
          "base_uri": "https://localhost:8080/"
        },
        "id": "c25Bs4a5tIZY",
        "outputId": "4307b358-77a0-4ce7-9c74-0f58e1b70f49"
      },
      "execution_count": null,
      "outputs": [
        {
          "output_type": "stream",
          "name": "stdout",
          "text": [
            "Enter the number of feet: 5\n",
            "5.0 feet is 60.0 inches.\n"
          ]
        }
      ]
    },
    {
      "cell_type": "markdown",
      "source": [
        "# **Pythagorean theorem!**\n",
        "\n",
        "### Write a program that asks the user for the lengths of the two perpendicular sides of a right triangle and outputs the length of the third side (the hypotenuse) using the Pythagorean theorem!\n",
        "\n",
        "### For instance, let's consider a right triangle ABC, with the right angle located at C. According to the Pythagorean theorem:\n",
        "\n",
        "### BC ** 2 = AB ** 2 + AC ** 2\n",
        "\n",
        "### Your code should read in the lengths of the sides AB and AC, and that outputs the length of the hypotenuse (BC). You will probably find math.sqrt() to be useful."
      ],
      "metadata": {
        "id": "JqSFEGhc0b7N"
      }
    },
    {
      "cell_type": "code",
      "source": [
        "# program that asks the user for the lengths of the two perpendicular sides of a right triangle and\n",
        "# outputs the length of the third side (the hypotenuse) using the Pythagorean theorem!\n",
        "\n",
        "import math\n",
        "\n",
        "ab = float(input(\"Enter the length of AB: \"))\n",
        "ac = float(input(\"Enter the length of AC: \"))\n",
        "\n",
        "bc = math.sqrt((ab ** 2) + (ac ** 2))\n",
        "\n",
        "print(\"The length of BC (the hypotenuse) is: \" + str(bc))\n"
      ],
      "metadata": {
        "colab": {
          "base_uri": "https://localhost:8080/"
        },
        "id": "oAO_VQO0ujU5",
        "outputId": "2ed1c704-c49c-4984-807a-2189bfe0dfac"
      },
      "execution_count": null,
      "outputs": [
        {
          "output_type": "stream",
          "name": "stdout",
          "text": [
            "Enter the length of AB: 2\n",
            "Enter the length of AC: 2\n",
            "The length of BC (the hypotenuse) is: 2.8284271247461903\n"
          ]
        }
      ]
    },
    {
      "cell_type": "markdown",
      "source": [
        "# **Remainder Division**\n",
        "\n",
        "### Ask the user for two numbers, one at a time, and then print the result of dividing the first number by the second and also the remainder of the division."
      ],
      "metadata": {
        "id": "lyT39MyR1AId"
      }
    },
    {
      "cell_type": "code",
      "source": [
        "# Program that ask the user for two numbers and\n",
        "# then print the result of  dividing the first number by the second\n",
        "# and also the remainder of the division.\n",
        "\n",
        "num1 = int(input(\"Please enter an integer to be divided: \"))\n",
        "num2 = int(input(\"Please enter an integer to divide by: \"))\n",
        "\n",
        "quotient = num1 // num2\n",
        "remainder = num1 % num2\n",
        "\n",
        "print(\"The result of this division is: \" + str(quotient) + \" with a remainder of: \" + str(remainder))"
      ],
      "metadata": {
        "colab": {
          "base_uri": "https://localhost:8080/"
        },
        "id": "9PdevN8R8YyK",
        "outputId": "d9db7f9d-65c5-4cf3-fbbe-1703051a94bb"
      },
      "execution_count": null,
      "outputs": [
        {
          "output_type": "stream",
          "name": "stdout",
          "text": [
            "Please enter an integer to be divided: 4\n",
            "Please enter an integer to divide by: 2\n",
            "The result of this division is: 2 with a remainder of: 0\n"
          ]
        }
      ]
    },
    {
      "cell_type": "markdown",
      "source": [
        "# **Rolling Dice**\n",
        "\n",
        "### Simulate rolling two dice, and prints results of each roll as well as the total."
      ],
      "metadata": {
        "id": "GEP3szdB1VMI"
      }
    },
    {
      "cell_type": "code",
      "source": [
        "# Simulate rolling two dice, and prints results of each roll as well as the total.\n",
        "\n",
        "import random\n",
        "\n",
        "die1 = random.randint(1, 6)\n",
        "die2 = random.randint(1, 6)\n",
        "\n",
        "print(\"Roll 1: \" + str(die1))\n",
        "print(\"Roll 2: \" + str(die2))\n",
        "\n",
        "total: int = die1 + die2\n",
        "print(\"Total of two dice:\", total)"
      ],
      "metadata": {
        "colab": {
          "base_uri": "https://localhost:8080/"
        },
        "id": "CcQRrhTJRWkE",
        "outputId": "2a82b620-cb95-406a-c4d6-c22b4c9842ce"
      },
      "execution_count": null,
      "outputs": [
        {
          "output_type": "stream",
          "name": "stdout",
          "text": [
            "Roll 1: 1\n",
            "Roll 2: 2\n",
            "Total of two dice: 3\n"
          ]
        }
      ]
    },
    {
      "cell_type": "markdown",
      "source": [
        "# **Seconds in a Year**\n",
        "\n",
        "### Use Python to calculate the number of seconds in a year, and tell the user what the result is in a nice print statement that looks like this (of course the value 5 should be the calculated number instead):\n",
        "\n",
        "### There are 5 seconds in a year!\n",
        "\n",
        "### You should use constants for this exercise -- there are 365 days in a year, 24 hours in a day, 60 minutes in an hour, and 60 seconds per minute."
      ],
      "metadata": {
        "id": "xzLQ_wsX1gi0"
      }
    },
    {
      "cell_type": "code",
      "source": [
        "# calculate the number of seconds in a year\n",
        "\n",
        "Days: int = 365\n",
        "Hours: int = 24\n",
        "Minutes: int = 60\n",
        "Seconds: int = 60\n",
        "\n",
        "print(\"There are \" + str(Days * Hours * Minutes * Seconds) + \" seconds in a year.\")\n"
      ],
      "metadata": {
        "colab": {
          "base_uri": "https://localhost:8080/"
        },
        "id": "T297tiXsSnLW",
        "outputId": "92a2915e-b7c4-47b5-eef5-6f8d536f16f0"
      },
      "execution_count": null,
      "outputs": [
        {
          "output_type": "stream",
          "name": "stdout",
          "text": [
            "There are 31536000 seconds in a year.\n"
          ]
        }
      ]
    },
    {
      "cell_type": "markdown",
      "source": [
        "# **Mad Libs**\n",
        "\n",
        "### Write a program which prompts the user for an adjective, then a noun, then a verb, and then prints a fun sentence with those words!\n",
        "\n",
        "### Mad Libs is a word game where players are prompted for one word at a time, and the words are eventually filled into the blanks of a word template to make an entertaining story! We've provided you with the beginning of a sentence (the SENTENCE_START constant) which will end in a user-inputted adjective, noun, and then verb."
      ],
      "metadata": {
        "id": "gMweA9VB1vci"
      }
    },
    {
      "cell_type": "code",
      "source": [
        "# A Word Game!\n",
        "# program which prompts the user for an adjective, then a noun,\n",
        "# then a verb, and then prints a fun sentence with those words!\n",
        "\n",
        "SENTENCE_START: str = \"Panaversity is fun. I learned to program and used Python to make my \"\n",
        "\n",
        "adjective = str(input(\"Please type an adjective and press enter: \"))\n",
        "noun = str(input(\"Please type a noun and press enter: \"))\n",
        "verb = str(input(\"Please type a verb and press enter: \"))\n",
        "\n",
        "print(SENTENCE_START + adjective + \" \" + noun + \" \" + verb + \".\")"
      ],
      "metadata": {
        "colab": {
          "base_uri": "https://localhost:8080/"
        },
        "id": "PgrukD3bTJUQ",
        "outputId": "6a2adf89-9ac2-42e7-f6b3-6e5a9e439d94"
      },
      "execution_count": null,
      "outputs": [
        {
          "output_type": "stream",
          "name": "stdout",
          "text": [
            "Please type an adjective and press enter: simple\n",
            "Please type a noun and press enter: code\n",
            "Please type a verb and press enter: interesting\n",
            "Panaversity is fun. I learned to program and used Python to make my simple code interesting.\n"
          ]
        }
      ]
    }
  ]
}