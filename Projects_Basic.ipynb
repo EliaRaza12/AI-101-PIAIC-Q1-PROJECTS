{
  "nbformat": 4,
  "nbformat_minor": 0,
  "metadata": {
    "colab": {
      "provenance": []
    },
    "kernelspec": {
      "name": "python3",
      "display_name": "Python 3"
    },
    "language_info": {
      "name": "python"
    }
  },
  "cells": [
    {
      "cell_type": "markdown",
      "source": [
        "#Joke Bot\n",
        "# 1. Write a simple joke bot. The bot starts by asking the user what they want. However, your program will only respond to one response: Joke.\n",
        "\n",
        "If the user enters Joke then we will print out a single joke. Each time the joke is always the same:\n",
        "\n",
        "Here is a joke for you! Panaversity GPT - Sophia is heading out to the grocery store. A programmer tells her: get a liter of milk, and if they have eggs, get 12. Sophia returns with 13 liters of milk. The programmer asks why and Sophia replies: 'because they had eggs'\n",
        "\n",
        "If the user enters anything else we print out:\n",
        "\n",
        "Sorry I only tell jokes\n",
        "\n",
        "You should use the three constants:\n",
        "\n",
        "PROMPT JOKE SORRY\n",
        "\n",
        "which contain the strings for the prompt asked to the user, the joke to print out if the user enters Joke and the sorry message if the user enters anything else.\n",
        "\n",
        "Your program will need to use an if statement which checks if the user input is Joke:\n",
        "\n",
        "if user_input == \"Joke\":\n",
        "\n",
        "Recall that == is a comparison which tests if two values are equal to one another."
      ],
      "metadata": {
        "id": "I_1rgRgJ0iO0"
      }
    },
    {
      "cell_type": "code",
      "execution_count": null,
      "metadata": {
        "colab": {
          "base_uri": "https://localhost:8080/"
        },
        "id": "9WGfsoHC0bx6",
        "outputId": "fe30c74b-bcdd-4ddb-f731-5cf8f20059b5"
      },
      "outputs": [
        {
          "output_type": "stream",
          "name": "stdout",
          "text": [
            "What do you want? joke\n",
            "joke\n",
            "Why did the bicycle fall over? Because it was two-tired! 🚴‍♂️😄\n"
          ]
        }
      ],
      "source": [
        "#Constants\n",
        "PROMPT: str = \"What do you want? \"\n",
        "JOKE: str = \"Why did the bicycle fall over? Because it was two-tired! 🚴‍♂️😄\"\n",
        "\n",
        "# Define a Funcion\n",
        "def joke_bot():\n",
        "\n",
        "  # 1. Get User Input\n",
        "  user_input = input(PROMPT)\n",
        "  print(user_input)\n",
        "\n",
        "  # 2. If else statement\n",
        "  if user_input.lower() == \"joke\":\n",
        "    print(JOKE)\n",
        "  else:\n",
        "    print(\"Sorry I only tell jokes\")\n",
        "\n",
        "joke_bot()"
      ]
    },
    {
      "cell_type": "code",
      "source": [
        "import random\n",
        "def joke_bot():\n",
        "  jokes = [\n",
        "        \"Why don't skeletons fight each other? They don't have the guts!\",\n",
        "        \"Why did the scarecrow win an award? Because he was outstanding in his field!\",\n",
        "        \"What do you call a fake noodle? An impasta!\",\n",
        "        \"Why did the bicycle fall over? Because it was two-tired!\",\n",
        "        \"What do you call cheese that isn't yours? Nacho cheese!\"\n",
        "    ]\n",
        "\n",
        "  return random.choice(jokes)\n",
        "\n",
        "def main():\n",
        "  print(\"Welcome to JokeBot! Type 'joke' to hear a joke, or 'exit' to leave.\")\n",
        "  while True:\n",
        "        user_input = input(\"What would you like to do? \")\n",
        "        if user_input.lower() == \"joke\":\n",
        "            print(\"\\n\" + joke_bot() + \"\\n\")\n",
        "        elif user_input.lower() == \"exit\":\n",
        "            print(\"Goodbye! Keep smiling! 😄\")\n",
        "            break\n",
        "        else:\n",
        "            print(\"I didn't understand that. Please type 'joke' or 'exit'.\")\n",
        "\n",
        "main()"
      ],
      "metadata": {
        "colab": {
          "base_uri": "https://localhost:8080/"
        },
        "id": "U04RKy-u7aI6",
        "outputId": "23fe441f-f866-4dc8-c24a-9ff6741f05c8"
      },
      "execution_count": null,
      "outputs": [
        {
          "output_type": "stream",
          "name": "stdout",
          "text": [
            "Welcome to JokeBot! Type 'joke' to hear a joke, or 'exit' to leave.\n",
            "What would you like to do? joke\n",
            "\n",
            "What do you call a fake noodle? An impasta!\n",
            "\n",
            "What would you like to do? exit\n",
            "Goodbye! Keep smiling! 😄\n"
          ]
        }
      ]
    },
    {
      "cell_type": "markdown",
      "source": [
        "# Double it!\n",
        "# 2. Write a program that asks a user to enter a number. Your program will then double that number and print out the result. It will repeat that process until the value is 100 or greater.\n",
        "\n",
        "For example if the user enters the number 2 you would then print:\n",
        "\n",
        "4 8 16 32 64 128\n",
        "\n",
        "Note that:\n",
        "\n",
        "2 doubled is 4\n",
        "\n",
        "4 doubled is 8\n",
        "\n",
        "8 doubled is 16\n",
        "\n",
        "and so on.\n",
        "\n",
        "We stop at 128 because that value is greater than 100."
      ],
      "metadata": {
        "id": "JQWCYhgh-oHo"
      }
    },
    {
      "cell_type": "code",
      "source": [
        "def double_it():\n",
        "  num = input(\"Enter a number: \")\n",
        "\n",
        "  #Type Casting\n",
        "  num = int(num)\n",
        "\n",
        "  while num <= 100:\n",
        "    num = num * 2\n",
        "    print(num, end = \" \")\n",
        "\n",
        "double_it()"
      ],
      "metadata": {
        "colab": {
          "base_uri": "https://localhost:8080/"
        },
        "id": "oOzvusk--9F9",
        "outputId": "0851f61a-3d78-4564-f781-4abab310dcdc"
      },
      "execution_count": null,
      "outputs": [
        {
          "output_type": "stream",
          "name": "stdout",
          "text": [
            "Enter a number: 2\n",
            "4 8 16 32 64 128 "
          ]
        }
      ]
    },
    {
      "cell_type": "markdown",
      "source": [
        "# 3. Write a program that prints out the calls for a spaceship that is about to launch. Countdown from 10 to 1 and then output Liftoff!\n",
        "\n",
        "Here's a sample run of the program:\n",
        "\n",
        "10 9 8 7 6 5 4 3 2 1 Liftoff!\n",
        "\n",
        "There are many ways to solve this problem. One approach is to use a for loop, and to use the for loop variable i. Recall that i will keep track of how many times the for loop has completed executing its body."
      ],
      "metadata": {
        "id": "SVHbrW2kEEh8"
      }
    },
    {
      "cell_type": "code",
      "source": [
        "for i in range (10, 0, -1):\n",
        "  print(i, end = \" \")\n",
        "print(\"Liftoff!\")"
      ],
      "metadata": {
        "colab": {
          "base_uri": "https://localhost:8080/"
        },
        "id": "O-dz3357Eq2E",
        "outputId": "a30c10d2-8783-484b-f3d3-2ae4df57719f"
      },
      "execution_count": null,
      "outputs": [
        {
          "output_type": "stream",
          "name": "stdout",
          "text": [
            "10 9 8 7 6 5 4 3 2 1 Liftoff!\n"
          ]
        }
      ]
    },
    {
      "cell_type": "markdown",
      "source": [
        "# Guess My Number\n",
        "\n",
        "I am thinking of a number between 0 and 99... Enter a guess: 50 Your guess is too high\n",
        "\n",
        "Enter a new number: 25 Your guess is too low\n",
        "\n",
        "Enter a new number: 40 Your guess is too low\n",
        "\n",
        "Enter a new number: 45 Your guess is too low\n",
        "\n",
        "Enter a new number: 48 Congrats! The number was: 48\n",
        "\n",
        "Starter Code"
      ],
      "metadata": {
        "id": "dapvdp8DSYVX"
      }
    },
    {
      "cell_type": "code",
      "source": [
        "import random\n",
        "secret_num = random.randint(0, 99)\n",
        "\n",
        "guess_num = int(input(\"I am thinking of a number between 0 and 99... Enter a guess: \"))\n",
        "\n",
        "allowed_attempts = 5\n",
        "attempts = 1\n",
        "while attempts <= allowed_attempts:\n",
        "\n",
        "      if guess_num > secret_num:\n",
        "        print(\"Your guess is too high\")\n",
        "      elif guess_num < secret_num:\n",
        "        print(\"Your guess is too low\")\n",
        "      else:\n",
        "        print(\"Congrats! The number was: \"+ str(secret_num))\n",
        "        break\n",
        "      print()\n",
        "      if attempts == allowed_attempts & guess_num != secret_num:\n",
        "        print(\"Sorry, you've reached the maximum number of attempts.\")\n",
        "        break\n",
        "      attempts += 1\n",
        "      guess_num = int(input(\"Enter a new number: \"))\n",
        "\n",
        "\n",
        "\n"
      ],
      "metadata": {
        "colab": {
          "base_uri": "https://localhost:8080/"
        },
        "id": "FhDPpDPXSfJK",
        "outputId": "a8418e3c-096a-4f68-fcac-54fbeeba713a"
      },
      "execution_count": null,
      "outputs": [
        {
          "output_type": "stream",
          "name": "stdout",
          "text": [
            "I am thinking of a number between 0 and 99... Enter a guess: 50\n",
            "Your guess is too high\n",
            "\n",
            "Enter a new number: 25\n",
            "Your guess is too high\n",
            "\n",
            "Enter a new number: 12\n",
            "Your guess is too low\n",
            "\n",
            "Enter a new number: 16\n",
            "Congrats! The number was: 16\n"
          ]
        }
      ]
    },
    {
      "cell_type": "markdown",
      "source": [
        "# Random Numbers\n",
        "\n",
        "Print 10 random numbers in the range 1 to 100.\n",
        "\n",
        "Here is an example run:\n",
        "\n",
        "45 79 61 47 52 10 16 83 19 12\n",
        "\n",
        "Each time you run your program you should get different numbers\n",
        "\n",
        "81 76 70 1 27 63 96 100 32 92\n",
        "\n",
        "Recall that the python random library has a function randint which returns an integer in the range set by the parameters (inclusive). For example this call would produce a random integer between 1 and 6, which could include 1 and could include 6:\n",
        "\n",
        "value = random.randint(1, 6)"
      ],
      "metadata": {
        "id": "L4peWPDKjCGq"
      }
    },
    {
      "cell_type": "code",
      "source": [
        "import random\n",
        "\n",
        "for i in range(10):\n",
        "  print(random.randint(1, 100), end = \" \")"
      ],
      "metadata": {
        "colab": {
          "base_uri": "https://localhost:8080/"
        },
        "id": "x4-fcc3klklu",
        "outputId": "d938f628-9344-4a0f-9883-b45ef6ebc5ad"
      },
      "execution_count": null,
      "outputs": [
        {
          "output_type": "stream",
          "name": "stdout",
          "text": [
            "13 21 44 33 6 98 9 24 45 41 "
          ]
        }
      ]
    },
    {
      "cell_type": "code",
      "source": [
        "import random\n",
        "\n",
        "num_list = []\n",
        "\n",
        "for i in range(10):\n",
        "  rand_num = random.randint(1, 100)\n",
        "  num_list.append(rand_num)\n",
        "\n",
        "print(*num_list)\n",
        "#we use * if we want a list to not print it brackets"
      ],
      "metadata": {
        "colab": {
          "base_uri": "https://localhost:8080/"
        },
        "id": "xGh9-05bjPHp",
        "outputId": "bb8409c2-7b29-4e2a-d9b4-210e932a4ac7"
      },
      "execution_count": null,
      "outputs": [
        {
          "output_type": "stream",
          "name": "stdout",
          "text": [
            "10 59 67 93 32 47 10 7 75 24\n"
          ]
        }
      ]
    }
  ]
}